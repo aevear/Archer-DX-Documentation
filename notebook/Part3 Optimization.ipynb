{
 "cells": [
  {
   "cell_type": "markdown",
   "metadata": {},
   "source": [
    "# Optimizing Part 3 : Finding a Sequence Number's Gene Name"
   ]
  },
  {
   "cell_type": "markdown",
   "metadata": {},
   "source": [
    "## What are we trying to do?\n",
    "\n",
    "Part 3 of the project can take some time to run, and as such we should try and find a faster solution to reliably solve the problem with less time/computational resources. \n",
    "\n",
    "These are several of the ideas I had to try and speed up the process (or in one parts show how slow it would be to use nested for loops).\n",
    "\n",
    "This is not meant to be a complete look at speeding up this process and only represent a limited set of testing materials. "
   ]
  },
  {
   "cell_type": "markdown",
   "metadata": {},
   "source": [
    "## Prepping before we start optimizing"
   ]
  },
  {
   "cell_type": "code",
   "execution_count": 1,
   "metadata": {},
   "outputs": [],
   "source": [
    "# Declaring values used for all test\n",
    "import time\n",
    "import pandas as pd\n",
    "\n",
    "from archerDX.core.coordinateAnnotationPairer import filterDataFrame, pairGTFRowWithCoordinateFilter, pairGTFRowWithCoordinateLoop, pairGTFRowWithCoordinateFilterIterrows, filterDataFrameOutOfRange\n",
    "from archerDX.utility.dataImport import readInGTF, readInCoordinateData, readInGTFReducedInput\n",
    "from archerDX.utility.paths import providedDataPaths\n",
    "\n",
    "coordinatePath = providedDataPaths[\"coordinateAnnotateProvidedPath\"]\n",
    "gtfPath = providedDataPaths[\"gtfProvidedPath\"]"
   ]
  },
  {
   "cell_type": "code",
   "execution_count": 2,
   "metadata": {},
   "outputs": [],
   "source": [
    "# Declaring a decorator we will use to keep track of time\n",
    "def timeit(method):\n",
    "    def timed(*args, **kw):\n",
    "        ts = time.time()\n",
    "        result = method(*args, **kw)\n",
    "        te = time.time()\n",
    "        if 'log_time' in kw:\n",
    "            name = kw.get('log_name', method.__name__.upper())\n",
    "            kw['log_time'][name] = int((te - ts) * 1000)\n",
    "        else:\n",
    "            print ('%r  %2.2f ms' % \\\n",
    "                  (method.__name__, (te - ts) * 1000))\n",
    "        return result\n",
    "    return timed"
   ]
  },
  {
   "cell_type": "markdown",
   "metadata": {},
   "source": [
    "## Baseline Time"
   ]
  },
  {
   "cell_type": "code",
   "execution_count": 3,
   "metadata": {},
   "outputs": [
    {
     "name": "stdout",
     "output_type": "stream",
     "text": [
      "     Chromosome  Location Gene Name\n",
      "0         chr12  20704380     PDE3A\n",
      "1         chr12  20704379     PDE3A\n",
      "2         chr21   9827238          \n",
      "3          chr5  71146882          \n",
      "4          chr8  38283717     FGFR1\n",
      "...         ...       ...       ...\n",
      "1798      chr12  20704363     PDE3A\n",
      "1799      chr11  85195011      DLG2\n",
      "1800      chr17  33478112    UNC45B\n",
      "1801       chr8  70602348   SLCO5A1\n",
      "1802      chr21   9827137          \n",
      "\n",
      "[1803 rows x 3 columns]\n",
      "'baseline'  94905.21 ms\n"
     ]
    }
   ],
   "source": [
    "@timeit\n",
    "def baseline():\n",
    "    coordinateData = readInCoordinateData(coordinatePath)\n",
    "    gtfData        = readInGTF(gtfPath)\n",
    "    \n",
    "    result = pairGTFRowWithCoordinateFilter(gtfData, coordinateData, True)\n",
    "\n",
    "\n",
    "start_time = time.time()\n",
    "baseline()\n",
    "baseLineTime = (time.time() - start_time)"
   ]
  },
  {
   "cell_type": "markdown",
   "metadata": {},
   "source": [
    "#### Baseline Result = 95734.14 ms\n",
    "\n",
    "Note : *This is about 96 seconds or close to a minute and a half*"
   ]
  },
  {
   "cell_type": "markdown",
   "metadata": {},
   "source": [
    "## Idea 1 : Only reading in nessessary columns"
   ]
  },
  {
   "cell_type": "code",
   "execution_count": 4,
   "metadata": {},
   "outputs": [
    {
     "name": "stdout",
     "output_type": "stream",
     "text": [
      "     Chromosome  Location Gene Name\n",
      "0         chr12  20704380     PDE3A\n",
      "1         chr12  20704379     PDE3A\n",
      "2         chr21   9827238          \n",
      "3          chr5  71146882          \n",
      "4          chr8  38283717     FGFR1\n",
      "...         ...       ...       ...\n",
      "1798      chr12  20704363     PDE3A\n",
      "1799      chr11  85195011      DLG2\n",
      "1800      chr17  33478112    UNC45B\n",
      "1801       chr8  70602348   SLCO5A1\n",
      "1802      chr21   9827137          \n",
      "\n",
      "[1803 rows x 3 columns]\n",
      "'reducedColumns'  95136.91 ms\n"
     ]
    }
   ],
   "source": [
    "@timeit\n",
    "def reducedColumns():\n",
    "    coordinateData = readInCoordinateData(coordinatePath)\n",
    "    gtfData        = readInGTFReducedInput(gtfPath)\n",
    "    \n",
    "    result = pairGTFRowWithCoordinateFilter(gtfData, coordinateData, True)\n",
    "\n",
    "start_time = time.time()\n",
    "reducedColumns()\n",
    "ideaOneTime = (time.time() - start_time)"
   ]
  },
  {
   "cell_type": "markdown",
   "metadata": {},
   "source": [
    "#### Reduced Input Time = 94278.68 ms\n",
    "\n",
    "Note : *Here we reduce the time by 3 seconds. Thats not a lot considering that its still in the 1.5 minute range but its worth keeping*"
   ]
  },
  {
   "cell_type": "markdown",
   "metadata": {},
   "source": [
    "## Idea 2: Filtering the data before attempting to match\n",
    "\n",
    "The idea here is to filter the data by chromosome and then start value to speed up the process"
   ]
  },
  {
   "cell_type": "code",
   "execution_count": 5,
   "metadata": {},
   "outputs": [
    {
     "name": "stdout",
     "output_type": "stream",
     "text": [
      "     Chromosome  Location Gene Name\n",
      "0         chr12  20704380     PDE3A\n",
      "1         chr12  20704379     PDE3A\n",
      "2         chr21   9827238          \n",
      "3          chr5  71146882          \n",
      "4          chr8  38283717     FGFR1\n",
      "...         ...       ...       ...\n",
      "1798      chr12  20704363     PDE3A\n",
      "1799      chr11  85195011      DLG2\n",
      "1800      chr17  33478112    UNC45B\n",
      "1801       chr8  70602348   SLCO5A1\n",
      "1802      chr21   9827137          \n",
      "\n",
      "[1803 rows x 3 columns]\n",
      "'filteringDataFirst'  97642.40 ms\n"
     ]
    }
   ],
   "source": [
    "@timeit\n",
    "def filteringDataFirst():\n",
    "    coordinateData = readInCoordinateData(coordinatePath)\n",
    "    gtfData        = readInGTF(gtfPath)\n",
    "    \n",
    "    gtfData = filterDataFrame(gtfData)\n",
    "    result = pairGTFRowWithCoordinateFilter(gtfData, coordinateData, True)\n",
    "\n",
    "start_time = time.time()\n",
    "filteringDataFirst()\n",
    "ideaTwoTime = (time.time() - start_time)"
   ]
  },
  {
   "cell_type": "markdown",
   "metadata": {},
   "source": [
    "#### Filtered Data Time = 95533.52 ms\n",
    "\n",
    "Note : *No real time saved. This is likely do to how we are filtering, since it the complex filters we used in the code require that we look through all of the data anyway rather than ejecting once we find a single correct anwser*"
   ]
  },
  {
   "cell_type": "markdown",
   "metadata": {},
   "source": [
    "## Idea 3 : Use a **For Loop** Rather than a Filter\n",
    "\n",
    "By using two for loops with a break, it may eject from the process earlier than with a filter"
   ]
  },
  {
   "cell_type": "code",
   "execution_count": 6,
   "metadata": {},
   "outputs": [],
   "source": [
    "@timeit\n",
    "def usingForLoop():\n",
    "    coordinateData = readInCoordinateData(coordinatePath)\n",
    "    gtfData        = readInGTF(gtfPath)\n",
    "    \n",
    "    result = pairGTFRowWithCoordinateLoop(gtfData, coordinateData, True)\n",
    "\n",
    "#filteringDataFirst()"
   ]
  },
  {
   "cell_type": "markdown",
   "metadata": {},
   "source": [
    "#### For Loop Time : Over twenty minutes\n",
    "\n",
    "Note : *I cut it early as it was taking too long. This was obviously a bad idea and is very inefficient*"
   ]
  },
  {
   "cell_type": "markdown",
   "metadata": {},
   "source": [
    "## Idea 4 : Using **Iterrows** with Pandas"
   ]
  },
  {
   "cell_type": "code",
   "execution_count": 7,
   "metadata": {},
   "outputs": [
    {
     "name": "stdout",
     "output_type": "stream",
     "text": [
      "     Chromosome  Location Gene Name\n",
      "0         chr12  20704380     PDE3A\n",
      "1         chr12  20704379     PDE3A\n",
      "2         chr21   9827238          \n",
      "3          chr5  71146882          \n",
      "4          chr8  38283717     FGFR1\n",
      "...         ...       ...       ...\n",
      "1798      chr12  20704363     PDE3A\n",
      "1799      chr11  85195011      DLG2\n",
      "1800      chr17  33478112    UNC45B\n",
      "1801       chr8  70602348   SLCO5A1\n",
      "1802      chr21   9827137          \n",
      "\n",
      "[1803 rows x 3 columns]\n",
      "'usingIterrows'  96696.64 ms\n"
     ]
    }
   ],
   "source": [
    "@timeit\n",
    "def usingIterrows():\n",
    "    coordinateData = readInCoordinateData(coordinatePath)\n",
    "    gtfData        = readInGTF(gtfPath)\n",
    "    \n",
    "    result = pairGTFRowWithCoordinateFilterIterrows(gtfData, coordinateData, True)\n",
    "\n",
    "start_time = time.time()\n",
    "usingIterrows()\n",
    "ideaFourTime = (time.time() - start_time)"
   ]
  },
  {
   "cell_type": "markdown",
   "metadata": {},
   "source": [
    "#### Iter row Time : 95065.17 ms\n",
    "\n",
    "Note : *Slightly slower or the same as the baseline, we will discard this option*"
   ]
  },
  {
   "cell_type": "markdown",
   "metadata": {},
   "source": [
    "## Idea 5 : Reducing Data Set Size\n",
    "\n",
    "As suggested in the file containing instructions, many of the values that are in the GTF file are not in the range of data loo"
   ]
  },
  {
   "cell_type": "code",
   "execution_count": 8,
   "metadata": {},
   "outputs": [
    {
     "name": "stdout",
     "output_type": "stream",
     "text": [
      "-- Removed 50607 rows based on Chromosome\n",
      "     Chromosome  Location Gene Name\n",
      "0         chr12  20704380     PDE3A\n",
      "1         chr12  20704379     PDE3A\n",
      "2         chr21   9827238          \n",
      "3          chr5  71146882          \n",
      "4          chr8  38283717     FGFR1\n",
      "...         ...       ...       ...\n",
      "1798      chr12  20704363     PDE3A\n",
      "1799      chr11  85195011      DLG2\n",
      "1800      chr17  33478112    UNC45B\n",
      "1801       chr8  70602348   SLCO5A1\n",
      "1802      chr21   9827137          \n",
      "\n",
      "[1803 rows x 3 columns]\n",
      "'reducingDataSetSize'  92984.05 ms\n"
     ]
    }
   ],
   "source": [
    "@timeit\n",
    "def reducingDataSetSize():\n",
    "    coordinateData = readInCoordinateData(coordinatePath)\n",
    "    gtfData        = readInGTF(gtfPath)\n",
    "\n",
    "    gtfData = filterDataFrameOutOfRange(coordinateData, gtfData)\n",
    "    \n",
    "    result = pairGTFRowWithCoordinateFilter(gtfData, coordinateData, True)\n",
    "\n",
    "start_time = time.time()\n",
    "reducingDataSetSize()\n",
    "ideaFiveTime = (time.time() - start_time)"
   ]
  },
  {
   "cell_type": "markdown",
   "metadata": {},
   "source": [
    "#### Filtered GTF Data Time : 96625.74 ms\n",
    "\n",
    "Note : *Faster than baseline! We removed enough rows to notice a speed increase.*"
   ]
  },
  {
   "cell_type": "markdown",
   "metadata": {},
   "source": [
    "## Idea 6 : Two Filters Applied\n",
    "\n",
    "Here will will filter the initial data pulled in from the CSV (as show in idea 1) before removing additional fields based on the start/end time (as show in idea5)"
   ]
  },
  {
   "cell_type": "code",
   "execution_count": 9,
   "metadata": {},
   "outputs": [
    {
     "name": "stdout",
     "output_type": "stream",
     "text": [
      "-- Removed 50607 rows based on Chromosome\n",
      "     Chromosome  Location Gene Name\n",
      "0         chr12  20704380     PDE3A\n",
      "1         chr12  20704379     PDE3A\n",
      "2         chr21   9827238          \n",
      "3          chr5  71146882          \n",
      "4          chr8  38283717     FGFR1\n",
      "...         ...       ...       ...\n",
      "1798      chr12  20704363     PDE3A\n",
      "1799      chr11  85195011      DLG2\n",
      "1800      chr17  33478112    UNC45B\n",
      "1801       chr8  70602348   SLCO5A1\n",
      "1802      chr21   9827137          \n",
      "\n",
      "[1803 rows x 3 columns]\n",
      "'twoFiltersApplied'  89901.22 ms\n"
     ]
    }
   ],
   "source": [
    "@timeit\n",
    "def twoFiltersApplied():\n",
    "    coordinateData = readInCoordinateData(coordinatePath)\n",
    "    gtfData        = readInGTFReducedInput(gtfPath)\n",
    "\n",
    "    gtfData = filterDataFrameOutOfRange(coordinateData, gtfData)\n",
    "    \n",
    "    result = pairGTFRowWithCoordinateFilter(gtfData, coordinateData, True)\n",
    "\n",
    "start_time = time.time()\n",
    "twoFiltersApplied()\n",
    "ideaSixTime = (time.time() - start_time)"
   ]
  },
  {
   "cell_type": "markdown",
   "metadata": {},
   "source": [
    "#### Multiple Filter Applied Time : 88982.62 ms\n",
    "\n",
    "Note : *Fastest so far by a very slim margin. We will be using this in the main program*"
   ]
  },
  {
   "cell_type": "markdown",
   "metadata": {},
   "source": [
    "# Conclusion"
   ]
  },
  {
   "cell_type": "markdown",
   "metadata": {},
   "source": [
    "As we take a look at the below times, we can see that for the most part all changes are minor at best. While I know that speeding up the process is *relative* and if the data we were processing was of a much large volumne than even small improvements would be of massive consequence. \n",
    "\n",
    "Overall, idea six (which was a combination of part five and part one) is the most significant of the changes we found. \n",
    "\n",
    "Part 6 involves only loading in the columns we need from the GTF file and then removing ancillary chromosomes from the GTF file. \n",
    "\n",
    "### Other Ideas\n",
    "If I had more time or was assigned this as a major project, here are other ideas I would look into for trying to speed up the process.\n",
    "\n",
    "1. Recursive programming : a much more complicated approach, a recursive program might be able to speed up the time it took to find an exact match\n",
    "\n",
    "2. Breaking the gtf data/coordinate data into chromosome sets and matching them with only those subsets.\n",
    "\n",
    "3. Optimizing the pandas filter to run faster. This could be by taking the first file that is a match rather than completing the filter entirely. "
   ]
  },
  {
   "cell_type": "code",
   "execution_count": 1,
   "metadata": {
    "collapsed": true
   },
   "outputs": [
    {
     "ename": "NameError",
     "evalue": "name 'baseLineTime' is not defined",
     "output_type": "error",
     "traceback": [
      "\u001b[0;31m---------------------------------------------------------------------------\u001b[0m",
      "\u001b[0;31mNameError\u001b[0m                                 Traceback (most recent call last)",
      "\u001b[0;32m<ipython-input-1-5418c43c6316>\u001b[0m in \u001b[0;36m<module>\u001b[0;34m\u001b[0m\n\u001b[1;32m      1\u001b[0m \u001b[0;31m# M/s based time for each idea in above document\u001b[0m\u001b[0;34m\u001b[0m\u001b[0;34m\u001b[0m\u001b[0;34m\u001b[0m\u001b[0m\n\u001b[0;32m----> 2\u001b[0;31m \u001b[0mprint\u001b[0m\u001b[0;34m(\u001b[0m\u001b[0;34mf\"Base Time      | {baseLineTime}\"\u001b[0m\u001b[0;34m)\u001b[0m\u001b[0;34m\u001b[0m\u001b[0;34m\u001b[0m\u001b[0m\n\u001b[0m\u001b[1;32m      3\u001b[0m \u001b[0mprint\u001b[0m\u001b[0;34m(\u001b[0m\u001b[0;34mf\"Idea One Time  | {ideaOneTime}\"\u001b[0m\u001b[0;34m)\u001b[0m\u001b[0;34m\u001b[0m\u001b[0;34m\u001b[0m\u001b[0m\n\u001b[1;32m      4\u001b[0m \u001b[0mprint\u001b[0m\u001b[0;34m(\u001b[0m\u001b[0;34mf\"Idea Two Time  | {ideaTwoTime}\"\u001b[0m\u001b[0;34m)\u001b[0m\u001b[0;34m\u001b[0m\u001b[0;34m\u001b[0m\u001b[0m\n\u001b[1;32m      5\u001b[0m \u001b[0mprint\u001b[0m\u001b[0;34m(\u001b[0m\u001b[0;34mf\"Idea Four Time | {ideaFourTime}\"\u001b[0m\u001b[0;34m)\u001b[0m\u001b[0;34m\u001b[0m\u001b[0;34m\u001b[0m\u001b[0m\n",
      "\u001b[0;31mNameError\u001b[0m: name 'baseLineTime' is not defined"
     ]
    }
   ],
   "source": [
    "# M/s based time for each idea in above document\n",
    "print(f\"Base Time      | {baseLineTime}\")\n",
    "print(f\"Idea One Time  | {ideaOneTime}\")\n",
    "print(f\"Idea Two Time  | {ideaTwoTime}\")\n",
    "print(f\"Idea Four Time | {ideaFourTime}\")\n",
    "print(f\"Idea Five Time | {ideaFiveTime}\")\n",
    "print(f\"Idea Six Time  | {ideaSixTime}\")\n"
   ]
  }
 ],
 "metadata": {
  "kernelspec": {
   "display_name": "Python 3",
   "language": "python",
   "name": "python3"
  },
  "language_info": {
   "codemirror_mode": {
    "name": "ipython",
    "version": 3
   },
   "file_extension": ".py",
   "mimetype": "text/x-python",
   "name": "python",
   "nbconvert_exporter": "python",
   "pygments_lexer": "ipython3",
   "version": "3.9.1"
  }
 },
 "nbformat": 4,
 "nbformat_minor": 4
}
